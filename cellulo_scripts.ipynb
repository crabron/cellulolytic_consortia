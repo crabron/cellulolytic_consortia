{
 "cells": [
  {
   "cell_type": "markdown",
   "metadata": {},
   "source": [
    "# Binning"
   ]
  },
  {
   "cell_type": "code",
   "execution_count": null,
   "metadata": {},
   "outputs": [],
   "source": [
    "!iqtree -s al_d_root.fasta -T AUTO -ntmax 100 -B 1000\n"
   ]
  },
  {
   "cell_type": "code",
   "execution_count": null,
   "metadata": {},
   "outputs": [],
   "source": [
    "d = {\"14\":[\"14.fq\",\n",
    "                    \"/home/gladkov2/storage/Bact_comm_4x/20200225_1435_MN24173_FAK85519_967910e6_3_6_1_barcoded/barcode01/all.fq\",\n",
    "                    \"/home/gladkov2/storage/metagenome/bact_4x/new_con/14_F_wa.fq\",\n",
    "                    \"/home/gladkov2/storage/metagenome/bact_4x/new_con/14_R_wa.fq\"],\n",
    "     \"26\":[\"26.fq\",\n",
    "                    \"/home/gladkov2/storage/Bact_comm_4x/20200225_1435_MN24173_FAK85519_967910e6_3_6_1_barcoded/barcode02/all.fq\",\n",
    "                    \"/home/gladkov2/storage/metagenome/bact_4x/new_con/26_F_wa.fq\",\n",
    "                    \"/home/gladkov2/storage/metagenome/bact_4x/new_con/26_R_wa.fq\"],\n",
    "     \"29\":[\"29.fq\",\n",
    "                    \"/home/gladkov2/storage/Bact_comm_4x/20200225_1435_MN24173_FAK85519_967910e6_3_6_1_barcoded/barcode03/all.fq\",\n",
    "                    \"/home/gladkov2/storage/metagenome/bact_4x/new_con/29_F_wa.fq\",\n",
    "                    \"/home/gladkov2/storage/metagenome/bact_4x/new_con/29_R_wa.fq\"],\n",
    "     \"46\":[\"46.fq\",\n",
    "                    \"/home/gladkov2/storage/Bact_comm_4x/20200225_1435_MN24173_FAK85519_967910e6_3_6_1_barcoded/barcode04/all.fq\",\n",
    "                    \"/home/gladkov2/storage/metagenome/bact_4x/new_con/46_F_wa.fq\",\n",
    "                    \"/home/gladkov2/storage/metagenome/bact_4x/new_con/46_R_wa.fq\"],\n",
    "    }\n",
    "\n",
    "for f in d:\n",
    "    con = d[f][0]\n",
    "    mi_f = d[f][2]\n",
    "    mi_r = d[f][3]\n",
    "    ont = d[f][1]\n",
    "    !sed -n '1~4s/^@/>/p;2~4p' $ont > $f\\_ont.fasta\n",
    "    !minimap2 -ax map-ont $con  $f\\_ont.fasta $mi_f $mi_r -t 50  > $f\\_bwa.sam\n",
    "    !samtools sort $f\\_bwa.sam > $f\\_bwa_sorted.bam\n",
    "  \n",
    "for f in d:\n",
    "    print(f'\\n{f}')\n",
    "    !samtools flagstat $f\\_bwa_sorted.bam\n",
    "\n",
    "for f in d:\n",
    "    !jgi_summarize_bam_contig_depths \\\n",
    "    --outputDepth $f\\_depth.txt \\\n",
    "    --referenceFasta $f\\.fq \\\n",
    "    $f\\_bwa_sorted.bam\n",
    "\n",
    "for f in d:\n",
    "    !metabat2 -i $f\\.fq -o mags/$f\\_gen_cov -a  $f\\_depth.txt\n",
    "    !metabat2 -i $f\\.fq -o mags/$f\\_gen_w_cov\n",
    "!checkm lineage_wf -x fa  -f checkm/N2_MAGs_checkm.tab -t 50 mags/ checkm/\n",
    "!checkm qa ./checkm/lineage.ms ./checkm -o 2 -f res --tab_table -t 50\n",
    "    \n"
   ]
  },
  {
   "cell_type": "code",
   "execution_count": null,
   "metadata": {},
   "outputs": [],
   "source": [
    "df = pd.read_csv(\"res\", delimiter=\"\\t\")\n",
    "df.columns\n",
    "df = df[['Bin Id','Marker lineage', 'Completeness','Contamination', 'Strain heterogeneity',\n",
    "       'Genome size (bp)', 'N50 (contigs)', 'GC']]\n",
    "df_h = df.query(\"Completeness > 90 and Contamination < 5\")\n",
    "df_h.to_csv('checkm_stat_hq.tsv', index=False, sep='\\t')"
   ]
  },
  {
   "cell_type": "code",
   "execution_count": null,
   "metadata": {},
   "outputs": [],
   "source": [
    "df_h = df.query(\"Completeness > 90 and Contamination < 5\")\n",
    "\n",
    "with open('high_q_bins_list.txt', 'a') as f:\n",
    "    dfAsString = df_h['Bin Id'].to_string(header=False, index=False)\n",
    "    f.write(dfAsString)"
   ]
  },
  {
   "cell_type": "markdown",
   "metadata": {},
   "source": [
    "### Kraken2 processing with GTDB"
   ]
  },
  {
   "cell_type": "code",
   "execution_count": null,
   "metadata": {},
   "outputs": [],
   "source": [
    "%%bash\n",
    "\n",
    "mkdir kraken2_gdtb_res\n",
    "for file in ~/storage/metagenome/bact_4x/new_con/diamond/con/*[0-9].faa; do\n",
    "    mkdir temp\n",
    "    fname=$(basename \"$file\" .faa)\n",
    "    kraken2 --report kraken2_gdtb_res/${fname}_report_gtdb --db /home/gladkov2/storage/somebases/kraken_gtdb_202_struo2/ --threads 50 $file > temp/${fname}_res_kraken.tsv\n",
    "    cat temp/${fname}_res_kraken.tsv | cut -f3 | cut -f3 |taxonkit --data-dir ~/storage/somebases/kraken_gtdb_202_struo2/taxonomy/  -j 50 lineage | taxonkit --data-dir ~/storage/somebases/kraken_gtdb_202_struo2/taxonomy/  -j 50 reformat  -I 1 -r \"Unassigned\" -f \"{k}\\t{p}\\t{c}\\t{o}\\t{f}\\t{g}\\t{s}\" > temp/first \n",
    "    cat temp/${fname}_res_kraken.tsv | cut -f2 > temp/second\n",
    "    paste temp/second temp/first > kraken2_gdtb_res/${fname}_res_kraken.tsv\n",
    "    rm -r temp\n",
    "done;"
   ]
  },
  {
   "cell_type": "code",
   "execution_count": null,
   "metadata": {},
   "outputs": [],
   "source": [
    "!python /home/gladkov2/storage/apps/KrakenTools/combine_kreports.py \\\n",
    "    -r kraken2_gdtb_res/14_report_gtdb kraken2_gdtb_res/26_report_gtdb kraken2_gdtb_res/29_report_gtdb kraken2_gdtb_res/46_report_gtdb \\\n",
    "    --display-headers \\\n",
    "    --sample-names c14 c26 c29 c46 \\\n",
    "    -o kraken2_gdtb_res/all.kreport2 \n",
    "\n",
    "!python /home/gladkov2/storage/apps/KrakenTools/kreport2krona.py -r kraken2_gdtb_res/all.kreport2 -o kraken2_gdtb_res/all.krona\n",
    "!ktImportText kraken2_gdtb_res/all.krona -o kraken2_gdtb_res/all.krona.html"
   ]
  },
  {
   "cell_type": "code",
   "execution_count": null,
   "metadata": {},
   "outputs": [],
   "source": [
    "%%bash\n",
    "\n",
    "for file in kraken2_gdtb_res/*report_gtdb; do\n",
    "    fname=$(basename \"$file\")\n",
    "    fname=${fname%%_*}\n",
    "    echo $fname\n",
    "    echo $file\n",
    "    python /home/gladkov2/storage/apps/KrakenTools/kreport2krona.py -r ${file} -o kraken2_gdtb_res/${fname}.krona\n",
    "    sed -i 's/.__.__//g' kraken2_gdtb_res/${fname}.krona\n",
    "done;\n",
    "\n",
    "ktImportText kraken2_gdtb_res/*.krona -o kraken2_gdtb_res/all.krona.html"
   ]
  },
  {
   "cell_type": "markdown",
   "metadata": {},
   "source": [
    "## Clusters\n",
    "\n",
    "CGC-Finder\n"
   ]
  },
  {
   "cell_type": "code",
   "execution_count": null,
   "metadata": {},
   "outputs": [],
   "source": [
    "%%bash\n",
    "\n",
    "run_dbcan 26.faa meta --cluster [135/1916]\n",
    "dia_cpu 20 --tf_cpu 20 --hmm_cpu 20 --stp_cpu 20 --tools diamond --out_dir db_26 --db_dir ~/storage/someb\n",
    "ases/dbcan \n"
   ]
  }
 ],
 "metadata": {
  "kernelspec": {
   "display_name": "Python [conda env:vamb]",
   "language": "python",
   "name": "conda-env-vamb-py"
  },
  "language_info": {
   "codemirror_mode": {
    "name": "ipython",
    "version": 3
   },
   "file_extension": ".py",
   "mimetype": "text/x-python",
   "name": "python",
   "nbconvert_exporter": "python",
   "pygments_lexer": "ipython3",
   "version": "3.8.10"
  }
 },
 "nbformat": 4,
 "nbformat_minor": 4
}
